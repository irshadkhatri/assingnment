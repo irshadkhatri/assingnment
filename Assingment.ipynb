{
  "nbformat": 4,
  "nbformat_minor": 0,
  "metadata": {
    "colab": {
      "provenance": []
    },
    "kernelspec": {
      "name": "python3",
      "display_name": "Python 3"
    },
    "language_info": {
      "name": "python"
    }
  },
  "cells": [
    {
      "cell_type": "markdown",
      "source": [
        "For loop is used when the number of iterations is already known"
      ],
      "metadata": {
        "id": "spEocqI1klKP"
      }
    },
    {
      "cell_type": "code",
      "source": [
        "l = [1,2,3,4,5,6]\n",
        "for i in l:\n",
        "  print(i)"
      ],
      "metadata": {
        "colab": {
          "base_uri": "https://localhost:8080/"
        },
        "id": "_LGFNtopkier",
        "outputId": "9b0a4707-dae4-4dc8-d67b-2d5b12956f82"
      },
      "execution_count": null,
      "outputs": [
        {
          "output_type": "stream",
          "name": "stdout",
          "text": [
            "1\n",
            "2\n",
            "3\n",
            "4\n",
            "5\n",
            "6\n"
          ]
        }
      ]
    },
    {
      "cell_type": "markdown",
      "source": [
        "While loop is used when the number of iterations is already Unknown"
      ],
      "metadata": {
        "id": "PapspIBopcpL"
      }
    },
    {
      "cell_type": "code",
      "source": [
        "a = 1\n",
        "while a <=10:\n",
        "    print(a)\n",
        "    a = a +1"
      ],
      "metadata": {
        "colab": {
          "base_uri": "https://localhost:8080/"
        },
        "id": "0Tad3W7Shr9S",
        "outputId": "8085c1ac-36cd-4298-de4d-f186b98e5d1b"
      },
      "execution_count": null,
      "outputs": [
        {
          "output_type": "stream",
          "name": "stdout",
          "text": [
            "1\n",
            "2\n",
            "3\n",
            "4\n",
            "5\n",
            "6\n",
            "7\n",
            "8\n",
            "9\n",
            "10\n"
          ]
        }
      ]
    },
    {
      "cell_type": "markdown",
      "source": [
        "A2: Sum of number"
      ],
      "metadata": {
        "id": "YsIoX0u1qm7n"
      }
    },
    {
      "cell_type": "code",
      "source": [
        "result = 0\n",
        "for i in range(11):\n",
        "  result = result + i\n",
        "result\n"
      ],
      "metadata": {
        "colab": {
          "base_uri": "https://localhost:8080/"
        },
        "id": "VQaiFczXqZiD",
        "outputId": "1f2818a6-c6a8-4110-a259-ec912b20cd11"
      },
      "execution_count": null,
      "outputs": [
        {
          "output_type": "execute_result",
          "data": {
            "text/plain": [
              "55"
            ]
          },
          "metadata": {},
          "execution_count": 12
        }
      ]
    },
    {
      "cell_type": "markdown",
      "source": [
        "A3 : the electricity bill"
      ],
      "metadata": {
        "id": "h4bO1Qa8sgPA"
      }
    },
    {
      "cell_type": "code",
      "source": [
        "n = int(input('Enter your\"s unit :'))\n",
        "if n==1  and n ==100:\n",
        "  n = n* 4.5\n",
        "  print(n)\n",
        "  if n ==101 and n == 200:\n",
        "    n = n*6 \n",
        "    n = 450 +600\n",
        "  print('yuo will be pay :') \n",
        "  print(n)\n",
        "elif n==201 and n ==300:\n",
        "\n",
        "  print('you will be pay :')\n",
        "  print(n)\n",
        "else:\n",
        "  n = n* 20\n",
        "  n = n+ n\n",
        "  print(n)"
      ],
      "metadata": {
        "colab": {
          "base_uri": "https://localhost:8080/"
        },
        "id": "GgEIsI7vzVes",
        "outputId": "6ec0bbc0-c8da-4bfe-d061-a92bc9641589"
      },
      "execution_count": null,
      "outputs": [
        {
          "output_type": "stream",
          "name": "stdout",
          "text": [
            "Enter your\"s unit :100\n",
            "4000\n"
          ]
        }
      ]
    },
    {
      "cell_type": "code",
      "source": [
        "l1 = []\n",
        "l2 = []\n",
        "for i in range(101):\n",
        "   i = i**2\n",
        "   l1.append(i)\n",
        "   if i%4 or 5==0:\n",
        "     l2.append(i)\n",
        "print(l1)\n",
        "print(l2)\n",
        "\n"
      ],
      "metadata": {
        "colab": {
          "base_uri": "https://localhost:8080/"
        },
        "id": "CDaNIHNe2Rap",
        "outputId": "5da51834-9e4f-4de9-b42c-356288c29720"
      },
      "execution_count": null,
      "outputs": [
        {
          "output_type": "stream",
          "name": "stdout",
          "text": [
            "[0, 1, 4, 9, 16, 25, 36, 49, 64, 81, 100, 121, 144, 169, 196, 225, 256, 289, 324, 361, 400, 441, 484, 529, 576, 625, 676, 729, 784, 841, 900, 961, 1024, 1089, 1156, 1225, 1296, 1369, 1444, 1521, 1600, 1681, 1764, 1849, 1936, 2025, 2116, 2209, 2304, 2401, 2500, 2601, 2704, 2809, 2916, 3025, 3136, 3249, 3364, 3481, 3600, 3721, 3844, 3969, 4096, 4225, 4356, 4489, 4624, 4761, 4900, 5041, 5184, 5329, 5476, 5625, 5776, 5929, 6084, 6241, 6400, 6561, 6724, 6889, 7056, 7225, 7396, 7569, 7744, 7921, 8100, 8281, 8464, 8649, 8836, 9025, 9216, 9409, 9604, 9801, 10000]\n",
            "[1, 9, 25, 49, 81, 121, 169, 225, 289, 361, 441, 529, 625, 729, 841, 961, 1089, 1225, 1369, 1521, 1681, 1849, 2025, 2209, 2401, 2601, 2809, 3025, 3249, 3481, 3721, 3969, 4225, 4489, 4761, 5041, 5329, 5625, 5929, 6241, 6561, 6889, 7225, 7569, 7921, 8281, 8649, 9025, 9409, 9801]\n"
          ]
        }
      ]
    },
    {
      "cell_type": "markdown",
      "source": [
        "A5: filter vowels"
      ],
      "metadata": {
        "id": "BEo9PPo-TSAt"
      }
    },
    {
      "cell_type": "code",
      "source": [
        "s = \"I want to become a data scientist\"\n"
      ],
      "metadata": {
        "id": "_N05CTDscO0k"
      },
      "execution_count": null,
      "outputs": []
    },
    {
      "cell_type": "code",
      "source": [
        "s = \"I want to become a data scientist\"\n",
        "s1 = []\n",
        "for i in s:\n",
        "  if i=='a': \n",
        "    s1.append(i)\n",
        "  elif i == 'e':\n",
        "    s1.append(i)\n",
        "  elif i == 'i':\n",
        "    s1.append(i)\n",
        "  elif i == 'I':\n",
        "    s1.append(i)\n",
        "  elif i == 'o':\n",
        "    s1.append(i)\n",
        "  elif i =='u':\n",
        "    s1.append(i)\n",
        "else:\n",
        "  print(s)\n",
        "    \n",
        "  \n",
        "  \n",
        "print(s1)\n",
        "\n"
      ],
      "metadata": {
        "id": "qfj7XtKRPiOU",
        "colab": {
          "base_uri": "https://localhost:8080/"
        },
        "outputId": "d7450cdd-0fad-4f71-fd28-2f5c2617c5b0"
      },
      "execution_count": null,
      "outputs": [
        {
          "output_type": "stream",
          "name": "stdout",
          "text": [
            "I want to become a data scientist\n",
            "['I', 'a', 'o', 'e', 'o', 'e', 'a', 'a', 'a', 'i', 'e', 'i']\n"
          ]
        }
      ]
    },
    {
      "cell_type": "code",
      "source": [],
      "metadata": {
        "id": "sC_mCXc5RM_f"
      },
      "execution_count": null,
      "outputs": []
    },
    {
      "cell_type": "code",
      "source": [],
      "metadata": {
        "id": "3YkDMTvNHJHC"
      },
      "execution_count": null,
      "outputs": []
    },
    {
      "cell_type": "code",
      "source": [],
      "metadata": {
        "id": "nyb1NBqmMS7d"
      },
      "execution_count": null,
      "outputs": []
    }
  ]
}